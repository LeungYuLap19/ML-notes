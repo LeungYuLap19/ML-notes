{
  "cells": [
    {
      "cell_type": "markdown",
      "metadata": {
        "id": "xS_qthZBUNWV"
      },
      "source": [
        "### Final Assignment\n",
        "\n",
        "This is our last assignment and I hope you enjoyed this course.👍 In this assignment, you will do some exercises on k-means clustering."
      ]
    },
    {
      "cell_type": "markdown",
      "metadata": {
        "id": "Gj2NsUEIVFSN"
      },
      "source": [
        "# Let's read in our necessary libraries."
      ]
    },
    {
      "cell_type": "code",
      "execution_count": 1,
      "metadata": {
        "id": "U_Xjs8_TUNWX"
      },
      "outputs": [],
      "source": [
        "import numpy as np\n",
        "import matplotlib.pyplot as plt\n",
        "from mpl_toolkits.mplot3d import Axes3D\n",
        "from sklearn.cluster import KMeans\n",
        "from sklearn.datasets import make_blobs\n",
        "\n",
        "# Make the images larger\n",
        "plt.rcParams['figure.figsize'] = (16, 9)"
      ]
    },
    {
      "cell_type": "markdown",
      "metadata": {
        "id": "pNkjhepwoBv0"
      },
      "source": [
        "# Useful tools for this assignment"
      ]
    },
    {
      "cell_type": "markdown",
      "metadata": {
        "id": "ZWfEcEi3UNWY"
      },
      "source": [
        "Here, we have a function called **simulate_data**.  Read the documentation for the function and run the cell below. Then use this function to simulate a dataset with 200 data points (rows), 5 features (columns), and 4 centers."
      ]
    },
    {
      "cell_type": "code",
      "execution_count": 2,
      "metadata": {
        "id": "r_-CzskfUfw0"
      },
      "outputs": [],
      "source": [
        "from sklearn.datasets import make_blobs\n",
        "\n",
        "def simulate_data(n = 500, features = 10, centroids = 3):\n",
        "    '''\n",
        "    Simulate n data points with the number of features per data equal to \"features\" and the number of centers equal to \"centroids\"\n",
        "    INPUT (defaults)\n",
        "        n = number of rows (500)\n",
        "        features = number of columns (10)\n",
        "        centroids = number of centers (3)\n",
        "    Output\n",
        "        dataset = a dataset with the the specified characteristics\n",
        "    '''\n",
        "    dataset, y = make_blobs(n_samples=n, n_features=features, centers=centroids, random_state=42)\n",
        "\n",
        "    return dataset"
      ]
    },
    {
      "cell_type": "code",
      "execution_count": 3,
      "metadata": {
        "id": "9wgLMHCmUNWY"
      },
      "outputs": [],
      "source": [
        "# TODO: Use simulate_data to simulate a dataset with 200 data points (rows), 5 features (columns), and 4 centers\n",
        "data = simulate_data(n=200, features=5, centroids=4)"
      ]
    },
    {
      "cell_type": "markdown",
      "metadata": {
        "id": "UC02M-tqrms-"
      },
      "source": [
        "# K-means clustering"
      ]
    },
    {
      "cell_type": "markdown",
      "metadata": {
        "id": "csZUbr_3UNWZ"
      },
      "source": [
        "Let's try out a few different values of **k** and fit our data with the k-means algorithm."
      ]
    },
    {
      "cell_type": "code",
      "execution_count": 9,
      "metadata": {
        "id": "9eh_Ub6LUNWa"
      },
      "outputs": [
        {
          "data": {
            "text/plain": [
              "<Figure size 1600x900 with 0 Axes>"
            ]
          },
          "metadata": {},
          "output_type": "display_data"
        }
      ],
      "source": [
        "# TODO: Try to instantiate a model with 4 centers\n",
        "kmeans_4 = KMeans(n_clusters=4)\n",
        "\n",
        "# TODO: Then fit the model to your data using the fit method\n",
        "model_4 = kmeans_4.fit(data)\n",
        "\n",
        "# TODO: Finally, predict the labels on the data to show the category that point belongs to\n",
        "labels_4 = model_4.predict(data)\n",
        "\n",
        "# If everything you have done is correct, this should provide a graph of the data colored by center\n",
        "fig = plt.figure();\n",
        "ax = Axes3D(fig)\n",
        "ax.scatter(data[:, 0], data[:, 1], data[:, 2], c=labels_4, cmap='tab10');"
      ]
    },
    {
      "cell_type": "markdown",
      "metadata": {
        "id": "FJv6yrLbUNWa"
      },
      "source": [
        "Now try again, but this time fit kmeans using 2 clusters instead of 4 to your data."
      ]
    },
    {
      "cell_type": "code",
      "execution_count": 10,
      "metadata": {
        "id": "WCrPE-IiUNWa"
      },
      "outputs": [
        {
          "data": {
            "text/plain": [
              "<Figure size 1600x900 with 0 Axes>"
            ]
          },
          "metadata": {},
          "output_type": "display_data"
        }
      ],
      "source": [
        "# TODO: Now try again, but this time with 2 clusters instead of 4\n",
        "kmeans_2 = KMeans(n_clusters=2)\n",
        "\n",
        "# TODO: Then fit the model to your data using the fit method\n",
        "model_2 = kmeans_2.fit(data)\n",
        "\n",
        "# TODO: Finally, predict the labels on the data to show the category that point belongs to\n",
        "labels_2 = model_2.predict(data)\n",
        "\n",
        "# If everything you have done is correct, this should provide a graph of the data colored by center\n",
        "fig = plt.figure()\n",
        "ax = Axes3D(fig)\n",
        "ax.scatter(data[:, 0], data[:, 1], data[:, 2], c=labels_2, cmap='tab10')\n",
        "plt.show()"
      ]
    },
    {
      "cell_type": "markdown",
      "metadata": {
        "id": "c2NwMR8nUNWb"
      },
      "source": [
        "Now try again, but change the number of clusters in k-means to 7"
      ]
    },
    {
      "cell_type": "code",
      "execution_count": 11,
      "metadata": {
        "id": "5VboiH_RUNWb"
      },
      "outputs": [
        {
          "data": {
            "text/plain": [
              "<Figure size 1600x900 with 0 Axes>"
            ]
          },
          "metadata": {},
          "output_type": "display_data"
        }
      ],
      "source": [
        "# TODO: Now try again, but change the number of clusters in k-means to 7\n",
        "kmeans_7 = KMeans(n_clusters=7)\n",
        "\n",
        "# TODO: Then fit the model to your data using the fit method\n",
        "model_7 = kmeans_7.fit(data)\n",
        "\n",
        "# TODO: Finally, predict the labels on the data to show the category that each point belongs to\n",
        "labels_7 = model_7.predict(data)\n",
        "\n",
        "# If everything you have done is correct, this should provide a graph of the data colored by center\n",
        "fig = plt.figure()\n",
        "ax = Axes3D(fig)\n",
        "ax.scatter(data[:, 0], data[:, 1], data[:, 2], c=labels_7, cmap='tab10')\n",
        "\n",
        "plt.show()"
      ]
    },
    {
      "cell_type": "markdown",
      "metadata": {
        "id": "CQD-X183w0cU"
      },
      "source": [
        "# Elbow Method"
      ]
    },
    {
      "cell_type": "markdown",
      "metadata": {
        "id": "srRJCk_kUNWb"
      },
      "source": [
        "The following helps you create a scree plot, as you will need it for the final question."
      ]
    },
    {
      "cell_type": "code",
      "execution_count": 12,
      "metadata": {
        "id": "XIHnTlGwUNWb"
      },
      "outputs": [
        {
          "data": {
            "image/png": "[encoded data removed]",
            "text/plain": [
              "<Figure size 1600x900 with 1 Axes>"
            ]
          },
          "metadata": {},
          "output_type": "display_data"
        }
      ],
      "source": [
        "# Fit a kmeans model with changing k from 1-10\n",
        "# Obtain the SSE for each model\n",
        "# Plot the SSE against k\n",
        "\n",
        "def get_kmeans_SSE(data, center):\n",
        "    # Instantiate kmeans\n",
        "    kmeans = KMeans(n_clusters=center)\n",
        "    # Then fit the model to the data using the fit method\n",
        "    model = kmeans.fit(data)\n",
        "    # Sum of squared distances of samples to their closest cluster center\n",
        "    SSE = model.inertia_\n",
        "    return SSE\n",
        "\n",
        "SSE = []\n",
        "centers = list(range(1,11))\n",
        "\n",
        "for center in centers:\n",
        "    SSE.append(get_kmeans_SSE(data, center))\n",
        "    \n",
        "plt.plot(centers, SSE, linestyle='--', marker='o', color='b');\n",
        "plt.xlabel('K');\n",
        "plt.ylabel('SSE');\n",
        "plt.title('SSE vs. K');"
      ]
    },
    {
      "cell_type": "markdown",
      "metadata": {
        "id": "4Wqcpmf_UNWc"
      },
      "source": [
        "#Using the elbow method, how many clusters do you recommend for the data?"
      ]
    },
    {
      "cell_type": "markdown",
      "metadata": {
        "id": "oCOOnwjiGdFP"
      },
      "source": [
        "## Your answer: 2 clusters"
      ]
    }
  ],
  "metadata": {
    "colab": {
      "name": "s123456_CHAN_Tai_Man_In_class6.ipynb",
      "provenance": []
    },
    "kernelspec": {
      "display_name": "Python 3",
      "language": "python",
      "name": "python3"
    },
    "language_info": {
      "codemirror_mode": {
        "name": "ipython",
        "version": 3
      },
      "file_extension": ".py",
      "mimetype": "text/x-python",
      "name": "python",
      "nbconvert_exporter": "python",
      "pygments_lexer": "ipython3",
      "version": "3.9.0"
    }
  },
  "nbformat": 4,
  "nbformat_minor": 0
}
