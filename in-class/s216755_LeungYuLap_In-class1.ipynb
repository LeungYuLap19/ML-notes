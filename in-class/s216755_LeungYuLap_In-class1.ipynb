{
 "cells": [
  {
   "cell_type": "markdown",
   "metadata": {},
   "source": [
    "Q1"
   ]
  },
  {
   "cell_type": "code",
   "execution_count": 18,
   "metadata": {},
   "outputs": [],
   "source": [
    "names_inputs = input('A list of names')\n",
    "assignment_counts_inputs = input('A list of missing assignment counts')\n",
    "scores_inputs = input('a list of scores')"
   ]
  },
  {
   "cell_type": "code",
   "execution_count": 19,
   "metadata": {},
   "outputs": [],
   "source": [
    "names = names_inputs.split(', ')\n",
    "assignment_counts = assignment_counts_inputs.split(', ')\n",
    "scores = scores_inputs.split(', ')\n"
   ]
  },
  {
   "cell_type": "code",
   "execution_count": 20,
   "metadata": {},
   "outputs": [
    {
     "name": "stdout",
     "output_type": "stream",
     "text": [
      "Hello ,jim\n",
      "\n",
      "This is a reminder that you still have 8\n",
      "assignment(s) need to be submitted. Your current score is 40,\n",
      "which can be increased to 64 if you submit all your assignments by the due date.\n",
      "\n",
      "Best regards,\n",
      "Peter\n",
      "\n",
      "Hello ,lucid\n",
      "\n",
      "This is a reminder that you still have 9\n",
      "assignment(s) need to be submitted. Your current score is 45,\n",
      "which can be increased to 72 if you submit all your assignments by the due date.\n",
      "\n",
      "Best regards,\n",
      "Peter\n",
      "\n"
     ]
    }
   ],
   "source": [
    "if len(names) == len(assignment_counts) == len(scores):\n",
    "    for i in range(len(names)):\n",
    "        print(f'Hello ,{names[i]}\\n\\nThis is a reminder that you still have {assignment_counts[i]}\\nassignment(s) need to be submitted. Your current score is {scores[i]},\\nwhich can be increased to {int(scores[i]) + 3 * int(assignment_counts[i])} if you submit all your assignments by the due date.\\n\\nBest regards,\\nPeter\\n')"
   ]
  },
  {
   "cell_type": "markdown",
   "metadata": {},
   "source": [
    "Q2"
   ]
  },
  {
   "cell_type": "code",
   "execution_count": 15,
   "metadata": {},
   "outputs": [
    {
     "name": "stdout",
     "output_type": "stream",
     "text": [
      "Robert Downey Jr.\n",
      "Chris Evans\n",
      "Mark Ruffalo\n",
      "Chris Hemsworth\n",
      "Scarlett Johansson\n",
      "Jeremy Renner\n",
      "Don Cheadle\n",
      "Paul Rudd\n",
      "Benedict Cumberbatch\n",
      "Chadwick Boseman\n",
      "Brie Larson\n",
      "Tom Holland\n"
     ]
    }
   ],
   "source": [
    "with open('Endgame.txt', 'r') as file:\n",
    "    create_cast_list = file.readlines()\n",
    "\n",
    "cast_list = []\n",
    "\n",
    "for i in range(len(create_cast_list)):\n",
    "    temp_list = create_cast_list[i].split(', ')\n",
    "    cast_list.append(temp_list[0]);\n",
    "\n",
    "for i in range(len(cast_list)):\n",
    "    print(cast_list[i])"
   ]
  }
 ],
 "metadata": {
  "kernelspec": {
   "display_name": "Python 3",
   "language": "python",
   "name": "python3"
  },
  "language_info": {
   "codemirror_mode": {
    "name": "ipython",
    "version": 3
   },
   "file_extension": ".py",
   "mimetype": "text/x-python",
   "name": "python",
   "nbconvert_exporter": "python",
   "pygments_lexer": "ipython3",
   "version": "3.9.0"
  }
 },
 "nbformat": 4,
 "nbformat_minor": 2
}
